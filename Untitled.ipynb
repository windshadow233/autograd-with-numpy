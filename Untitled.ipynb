{
 "cells": [
  {
   "cell_type": "code",
   "execution_count": 2,
   "metadata": {},
   "outputs": [],
   "source": [
    "import numpy as np\n",
    "from numpy.lib.stride_tricks import as_strided"
   ]
  },
  {
   "cell_type": "code",
   "execution_count": 3,
   "metadata": {},
   "outputs": [],
   "source": [
    "def split_by_strides(input_data: np.ndarray, kernel_x, kernel_y, stride):\n",
    "    \"\"\"\n",
    "    将张量按卷积核尺寸与步长进行分割\n",
    "    :param input_data: 被卷积的张量(四维)\n",
    "    :param kernel_x: 卷积核的高度\n",
    "    :param kernel_y: 卷积核的宽度\n",
    "    :param stride: 步长\n",
    "    :return: output_data: 按卷积步骤展开后的矩阵\n",
    "\n",
    "    Example: [[1, 2, 3, 4],    2, 2, 2       [[[[1, 2],\n",
    "              [5, 6, 7, 8],             =>      [5, 6]],\n",
    "              [9, 10, 11, 12],                 [[3, 4],\n",
    "              [13, 14, 15, 16]]                 [7, 8]]],\n",
    "                                              [[[9, 10],\n",
    "                                                [13, 14]],\n",
    "                                               [[11, 12],\n",
    "                                                [15, 16]]]]\n",
    "    \"\"\"\n",
    "    batches, channels, x, y = input_data.shape\n",
    "    out_x, out_y = (x - kernel_x) // stride + 1, (y - kernel_y) // stride + 1\n",
    "    shape = (batches, channels, out_x, out_y, kernel_x, kernel_y)\n",
    "    strides = (*input_data.strides[:-2], input_data.strides[-2] * stride,\n",
    "               input_data.strides[-1] * stride, *input_data.strides[-2:])\n",
    "    output_data = as_strided(input_data, shape, strides=strides)\n",
    "    return output_data"
   ]
  },
  {
   "cell_type": "code",
   "execution_count": 4,
   "metadata": {},
   "outputs": [],
   "source": [
    "x=np.random.randint(0,10,(2,3,4,4))"
   ]
  },
  {
   "cell_type": "code",
   "execution_count": 5,
   "metadata": {},
   "outputs": [
    {
     "data": {
      "text/plain": [
       "array([[[[2, 6, 1, 3],\n",
       "         [5, 5, 3, 3],\n",
       "         [0, 2, 2, 5],\n",
       "         [3, 3, 8, 9]],\n",
       "\n",
       "        [[4, 3, 2, 6],\n",
       "         [4, 6, 8, 5],\n",
       "         [6, 6, 2, 8],\n",
       "         [9, 4, 0, 2]],\n",
       "\n",
       "        [[7, 6, 8, 7],\n",
       "         [5, 3, 0, 7],\n",
       "         [8, 3, 8, 1],\n",
       "         [9, 8, 4, 2]]],\n",
       "\n",
       "\n",
       "       [[[0, 2, 3, 0],\n",
       "         [4, 2, 7, 0],\n",
       "         [5, 2, 3, 0],\n",
       "         [3, 5, 9, 4]],\n",
       "\n",
       "        [[2, 9, 4, 3],\n",
       "         [2, 1, 2, 1],\n",
       "         [9, 4, 0, 3],\n",
       "         [2, 0, 7, 6]],\n",
       "\n",
       "        [[5, 5, 5, 0],\n",
       "         [7, 4, 3, 9],\n",
       "         [8, 7, 3, 0],\n",
       "         [3, 5, 5, 9]]]])"
      ]
     },
     "execution_count": 5,
     "metadata": {},
     "output_type": "execute_result"
    }
   ],
   "source": [
    "x"
   ]
  },
  {
   "cell_type": "code",
   "execution_count": 9,
   "metadata": {},
   "outputs": [],
   "source": [
    "def insert_zero(x, stride=1):\n",
    "    \"\"\"\n",
    "    按一定步长填充0\n",
    "    Example: [[1, 2, 3], 2    [[1, 0, 2, 0, 3],\n",
    "              [4, 5, 6],   =>  [0, 0, 0, 0, 0],\n",
    "              [7, 8, 9]]       [4, 0, 5, 0, 6],\n",
    "                               [0, 0, 0, 0, 0],\n",
    "                               [7, 0, 8, 0, 9]]\n",
    "    \"\"\"\n",
    "    if stride == 1:\n",
    "        return x\n",
    "    isize = x.shape\n",
    "    result = np.zeros((isize[0], isize[1], (isize[2] - 1) *\n",
    "                       stride + 1, (isize[3] - 1) * stride + 1), dtype=np.float32)\n",
    "    result[..., ::stride, ::stride] = x\n",
    "    return result"
   ]
  },
  {
   "cell_type": "code",
   "execution_count": 10,
   "metadata": {},
   "outputs": [
    {
     "data": {
      "text/plain": [
       "array([[[[2., 0., 6., 0., 1., 0., 3.],\n",
       "         [0., 0., 0., 0., 0., 0., 0.],\n",
       "         [5., 0., 5., 0., 3., 0., 3.],\n",
       "         [0., 0., 0., 0., 0., 0., 0.],\n",
       "         [0., 0., 2., 0., 2., 0., 5.],\n",
       "         [0., 0., 0., 0., 0., 0., 0.],\n",
       "         [3., 0., 3., 0., 8., 0., 9.]],\n",
       "\n",
       "        [[4., 0., 3., 0., 2., 0., 6.],\n",
       "         [0., 0., 0., 0., 0., 0., 0.],\n",
       "         [4., 0., 6., 0., 8., 0., 5.],\n",
       "         [0., 0., 0., 0., 0., 0., 0.],\n",
       "         [6., 0., 6., 0., 2., 0., 8.],\n",
       "         [0., 0., 0., 0., 0., 0., 0.],\n",
       "         [9., 0., 4., 0., 0., 0., 2.]],\n",
       "\n",
       "        [[7., 0., 6., 0., 8., 0., 7.],\n",
       "         [0., 0., 0., 0., 0., 0., 0.],\n",
       "         [5., 0., 3., 0., 0., 0., 7.],\n",
       "         [0., 0., 0., 0., 0., 0., 0.],\n",
       "         [8., 0., 3., 0., 8., 0., 1.],\n",
       "         [0., 0., 0., 0., 0., 0., 0.],\n",
       "         [9., 0., 8., 0., 4., 0., 2.]]],\n",
       "\n",
       "\n",
       "       [[[0., 0., 2., 0., 3., 0., 0.],\n",
       "         [0., 0., 0., 0., 0., 0., 0.],\n",
       "         [4., 0., 2., 0., 7., 0., 0.],\n",
       "         [0., 0., 0., 0., 0., 0., 0.],\n",
       "         [5., 0., 2., 0., 3., 0., 0.],\n",
       "         [0., 0., 0., 0., 0., 0., 0.],\n",
       "         [3., 0., 5., 0., 9., 0., 4.]],\n",
       "\n",
       "        [[2., 0., 9., 0., 4., 0., 3.],\n",
       "         [0., 0., 0., 0., 0., 0., 0.],\n",
       "         [2., 0., 1., 0., 2., 0., 1.],\n",
       "         [0., 0., 0., 0., 0., 0., 0.],\n",
       "         [9., 0., 4., 0., 0., 0., 3.],\n",
       "         [0., 0., 0., 0., 0., 0., 0.],\n",
       "         [2., 0., 0., 0., 7., 0., 6.]],\n",
       "\n",
       "        [[5., 0., 5., 0., 5., 0., 0.],\n",
       "         [0., 0., 0., 0., 0., 0., 0.],\n",
       "         [7., 0., 4., 0., 3., 0., 9.],\n",
       "         [0., 0., 0., 0., 0., 0., 0.],\n",
       "         [8., 0., 7., 0., 3., 0., 0.],\n",
       "         [0., 0., 0., 0., 0., 0., 0.],\n",
       "         [3., 0., 5., 0., 5., 0., 9.]]]], dtype=float32)"
      ]
     },
     "execution_count": 10,
     "metadata": {},
     "output_type": "execute_result"
    }
   ],
   "source": [
    "insert_zero(x, stride=2)"
   ]
  },
  {
   "cell_type": "code",
   "execution_count": null,
   "metadata": {},
   "outputs": [],
   "source": []
  }
 ],
 "metadata": {
  "kernelspec": {
   "display_name": "Python 3",
   "language": "python",
   "name": "python3"
  },
  "language_info": {
   "codemirror_mode": {
    "name": "ipython",
    "version": 3
   },
   "file_extension": ".py",
   "mimetype": "text/x-python",
   "name": "python",
   "nbconvert_exporter": "python",
   "pygments_lexer": "ipython3",
   "version": "3.7.3"
  }
 },
 "nbformat": 4,
 "nbformat_minor": 2
}
