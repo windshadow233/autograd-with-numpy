{
 "cells": [
  {
   "cell_type": "code",
   "execution_count": 1,
   "metadata": {},
   "outputs": [],
   "source": [
    "import numpy as np\n",
    "from numpy.lib.stride_tricks import as_strided"
   ]
  },
  {
   "cell_type": "code",
   "execution_count": 43,
   "metadata": {},
   "outputs": [],
   "source": [
    "x = np.array([[1., 2., 3.],\n",
    "        [4., 2., 4.]])"
   ]
  },
  {
   "cell_type": "code",
   "execution_count": 78,
   "metadata": {},
   "outputs": [],
   "source": [
    "y = np.tile(x, (1,2,3))"
   ]
  },
  {
   "cell_type": "code",
   "execution_count": 83,
   "metadata": {},
   "outputs": [],
   "source": [
    "x=x[None,:]"
   ]
  },
  {
   "cell_type": "code",
   "execution_count": 80,
   "metadata": {},
   "outputs": [
    {
     "data": {
      "text/plain": [
       "array([[[1., 2., 3., 1., 2., 3., 1., 2., 3.],\n",
       "        [4., 2., 4., 4., 2., 4., 4., 2., 4.],\n",
       "        [1., 2., 3., 1., 2., 3., 1., 2., 3.],\n",
       "        [4., 2., 4., 4., 2., 4., 4., 2., 4.]]])"
      ]
     },
     "execution_count": 80,
     "metadata": {},
     "output_type": "execute_result"
    }
   ],
   "source": [
    "y"
   ]
  },
  {
   "cell_type": "code",
   "execution_count": 73,
   "metadata": {},
   "outputs": [],
   "source": [
    "from itertools import product"
   ]
  },
  {
   "cell_type": "code",
   "execution_count": 81,
   "metadata": {},
   "outputs": [],
   "source": [
    "shape=(1,2,3)"
   ]
  },
  {
   "cell_type": "code",
   "execution_count": 84,
   "metadata": {},
   "outputs": [
    {
     "name": "stdout",
     "output_type": "stream",
     "text": [
      "[[[1. 2. 3.]\n",
      "  [4. 2. 4.]]]\n",
      "[[[1. 2. 3.]\n",
      "  [4. 2. 4.]]]\n",
      "[[[1. 2. 3.]\n",
      "  [4. 2. 4.]]]\n",
      "[[[1. 2. 3.]\n",
      "  [4. 2. 4.]]]\n",
      "[[[1. 2. 3.]\n",
      "  [4. 2. 4.]]]\n",
      "[[[1. 2. 3.]\n",
      "  [4. 2. 4.]]]\n"
     ]
    }
   ],
   "source": [
    "for index in product(*[range(s) for s in shape]):\n",
    "    print(y[index[0]*x.shape[0]:index[0]*x.shape[0]+x.shape[0],index[1]*x.shape[1]:index[1]*x.shape[1]+x.shape[1],index[2]*x.shape[2]:index[2]*x.shape[2]+x.shape[2]])"
   ]
  },
  {
   "cell_type": "code",
   "execution_count": 67,
   "metadata": {},
   "outputs": [
    {
     "data": {
      "text/plain": [
       "0"
      ]
     },
     "execution_count": 67,
     "metadata": {},
     "output_type": "execute_result"
    }
   ],
   "source": [
    "0*x.shape[0]"
   ]
  },
  {
   "cell_type": "code",
   "execution_count": null,
   "metadata": {},
   "outputs": [],
   "source": [
    "slices = [slice()]"
   ]
  }
 ],
 "metadata": {
  "kernelspec": {
   "display_name": "Python 3",
   "language": "python",
   "name": "python3"
  },
  "language_info": {
   "codemirror_mode": {
    "name": "ipython",
    "version": 3
   },
   "file_extension": ".py",
   "mimetype": "text/x-python",
   "name": "python",
   "nbconvert_exporter": "python",
   "pygments_lexer": "ipython3",
   "version": "3.7.3"
  }
 },
 "nbformat": 4,
 "nbformat_minor": 2
}
