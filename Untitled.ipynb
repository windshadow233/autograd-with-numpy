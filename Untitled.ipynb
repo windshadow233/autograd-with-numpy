{
 "cells": [
  {
   "cell_type": "code",
   "execution_count": 1,
   "metadata": {},
   "outputs": [],
   "source": [
    "import numpy as np\n",
    "from numpy.lib.stride_tricks import as_strided"
   ]
  },
  {
   "cell_type": "code",
   "execution_count": 4,
   "metadata": {},
   "outputs": [],
   "source": [
    "def split_by_strides(input_data: np.ndarray, kernel_x, kernel_y, stride):\n",
    "    \"\"\"\n",
    "    将张量按卷积核尺寸与步长进行分割\n",
    "    :param input_data: 被卷积的张量(四维)\n",
    "    :param kernel_x: 卷积核的高度\n",
    "    :param kernel_y: 卷积核的宽度\n",
    "    :param stride: 步长\n",
    "    :return: output_data: 按卷积步骤展开后的矩阵\n",
    "\n",
    "    Example: [[1, 2, 3, 4],    2, 2, 2       [[[[1, 2],\n",
    "              [5, 6, 7, 8],             =>      [5, 6]],\n",
    "              [9, 10, 11, 12],                 [[3, 4],\n",
    "              [13, 14, 15, 16]]                 [7, 8]]],\n",
    "                                              [[[9, 10],\n",
    "                                                [13, 14]],\n",
    "                                               [[11, 12],\n",
    "                                                [15, 16]]]]\n",
    "    \"\"\"\n",
    "    batches, channels, x, y = input_data.shape\n",
    "    out_x, out_y = (x - kernel_x) // stride + 1, (y - kernel_y) // stride + 1\n",
    "    shape = (batches, channels, out_x, out_y, kernel_x, kernel_y)\n",
    "    strides = (*input_data.strides[:-2], input_data.strides[-2] * stride,\n",
    "               input_data.strides[-1] * stride, *input_data.strides[-2:])\n",
    "    output_data = as_strided(input_data, shape, strides=strides)\n",
    "    return output_data"
   ]
  },
  {
   "cell_type": "code",
   "execution_count": 5,
   "metadata": {},
   "outputs": [],
   "source": [
    "x=np.random.randint(0,10,(2,3,4,4))"
   ]
  },
  {
   "cell_type": "code",
   "execution_count": 6,
   "metadata": {},
   "outputs": [],
   "source": [
    "y=split_by_strides(x, 2, 2, 2)"
   ]
  },
  {
   "cell_type": "code",
   "execution_count": 7,
   "metadata": {},
   "outputs": [
    {
     "data": {
      "text/plain": [
       "(2, 3, 2, 2, 2, 2)"
      ]
     },
     "execution_count": 7,
     "metadata": {},
     "output_type": "execute_result"
    }
   ],
   "source": [
    "y.shape"
   ]
  },
  {
   "cell_type": "code",
   "execution_count": 8,
   "metadata": {},
   "outputs": [
    {
     "data": {
      "text/plain": [
       "(192, 64, 32, 8, 16, 4)"
      ]
     },
     "execution_count": 8,
     "metadata": {},
     "output_type": "execute_result"
    }
   ],
   "source": [
    "y.strides"
   ]
  },
  {
   "cell_type": "code",
   "execution_count": 17,
   "metadata": {},
   "outputs": [],
   "source": [
    "y=y.max((-1,-2))"
   ]
  },
  {
   "cell_type": "code",
   "execution_count": 18,
   "metadata": {},
   "outputs": [
    {
     "data": {
      "text/plain": [
       "array([[[[9, 9],\n",
       "         [7, 9]],\n",
       "\n",
       "        [[9, 5],\n",
       "         [7, 5]],\n",
       "\n",
       "        [[7, 4],\n",
       "         [9, 8]]],\n",
       "\n",
       "\n",
       "       [[[9, 8],\n",
       "         [9, 9]],\n",
       "\n",
       "        [[9, 9],\n",
       "         [7, 6]],\n",
       "\n",
       "        [[6, 9],\n",
       "         [9, 8]]]])"
      ]
     },
     "execution_count": 18,
     "metadata": {},
     "output_type": "execute_result"
    }
   ],
   "source": [
    "y"
   ]
  },
  {
   "cell_type": "code",
   "execution_count": 34,
   "metadata": {},
   "outputs": [
    {
     "data": {
      "text/plain": [
       "array([[[[9, 9, 9, 9],\n",
       "         [9, 9, 9, 9],\n",
       "         [7, 7, 9, 9],\n",
       "         [7, 7, 9, 9]],\n",
       "\n",
       "        [[9, 9, 5, 5],\n",
       "         [9, 9, 5, 5],\n",
       "         [7, 7, 5, 5],\n",
       "         [7, 7, 5, 5]],\n",
       "\n",
       "        [[7, 7, 4, 4],\n",
       "         [7, 7, 4, 4],\n",
       "         [9, 9, 8, 8],\n",
       "         [9, 9, 8, 8]]],\n",
       "\n",
       "\n",
       "       [[[9, 9, 8, 8],\n",
       "         [9, 9, 8, 8],\n",
       "         [9, 9, 9, 9],\n",
       "         [9, 9, 9, 9]],\n",
       "\n",
       "        [[9, 9, 9, 9],\n",
       "         [9, 9, 9, 9],\n",
       "         [7, 7, 6, 6],\n",
       "         [7, 7, 6, 6]],\n",
       "\n",
       "        [[6, 6, 9, 9],\n",
       "         [6, 6, 9, 9],\n",
       "         [9, 9, 8, 8],\n",
       "         [9, 9, 8, 8]]]])"
      ]
     },
     "execution_count": 34,
     "metadata": {},
     "output_type": "execute_result"
    }
   ],
   "source": [
    "y.repeat(2,axis=-1).repeat(2, axis=-2)"
   ]
  },
  {
   "cell_type": "code",
   "execution_count": 23,
   "metadata": {},
   "outputs": [
    {
     "data": {
      "text/plain": [
       "array([[[[9, 9, 9, 9],\n",
       "         [9, 9, 9, 9],\n",
       "         [9, 9, 9, 9],\n",
       "         [9, 9, 9, 9]],\n",
       "\n",
       "        [[7, 7, 7, 7],\n",
       "         [7, 7, 7, 7],\n",
       "         [7, 7, 7, 7],\n",
       "         [7, 7, 7, 7]],\n",
       "\n",
       "        [[9, 9, 9, 9],\n",
       "         [9, 9, 9, 9],\n",
       "         [9, 9, 9, 9],\n",
       "         [9, 9, 9, 9]]],\n",
       "\n",
       "\n",
       "       [[[9, 9, 9, 9],\n",
       "         [9, 9, 9, 9],\n",
       "         [9, 9, 9, 9],\n",
       "         [9, 9, 9, 9]],\n",
       "\n",
       "        [[9, 9, 9, 9],\n",
       "         [9, 9, 9, 9],\n",
       "         [9, 9, 9, 9],\n",
       "         [9, 9, 9, 9]],\n",
       "\n",
       "        [[9, 9, 9, 9],\n",
       "         [9, 9, 9, 9],\n",
       "         [9, 9, 9, 9],\n",
       "         [9, 9, 9, 9]]]])"
      ]
     },
     "execution_count": 23,
     "metadata": {},
     "output_type": "execute_result"
    }
   ],
   "source": [
    "as_strided(y, (2,3,4,4), (48,8,0,0))"
   ]
  },
  {
   "cell_type": "code",
   "execution_count": null,
   "metadata": {},
   "outputs": [],
   "source": []
  }
 ],
 "metadata": {
  "kernelspec": {
   "display_name": "Python 3",
   "language": "python",
   "name": "python3"
  },
  "language_info": {
   "codemirror_mode": {
    "name": "ipython",
    "version": 3
   },
   "file_extension": ".py",
   "mimetype": "text/x-python",
   "name": "python",
   "nbconvert_exporter": "python",
   "pygments_lexer": "ipython3",
   "version": "3.7.3"
  }
 },
 "nbformat": 4,
 "nbformat_minor": 2
}
