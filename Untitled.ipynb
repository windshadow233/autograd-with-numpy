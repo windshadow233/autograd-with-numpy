{
 "cells": [
  {
   "cell_type": "code",
   "execution_count": 3,
   "metadata": {},
   "outputs": [],
   "source": [
    "import numpy as np\n",
    "from numpy.lib.stride_tricks import as_strided"
   ]
  },
  {
   "cell_type": "code",
   "execution_count": 7,
   "metadata": {},
   "outputs": [],
   "source": [
    "def split_by_strides(input_data: np.ndarray, kernel_x, kernel_y, stride):\n",
    "    \"\"\"\n",
    "    将张量按卷积核尺寸与步长进行分割\n",
    "    :param input_data: 被卷积的张量(四维)\n",
    "    :param kernel_x: 卷积核的高度\n",
    "    :param kernel_y: 卷积核的宽度\n",
    "    :param stride: 步长\n",
    "    :return: output_data: 按卷积步骤展开后的矩阵\n",
    "\n",
    "    Example: [[1, 2, 3, 4],    2, 2, 2       [[[[1, 2],\n",
    "              [5, 6, 7, 8],             =>      [5, 6]],\n",
    "              [9, 10, 11, 12],                 [[3, 4],\n",
    "              [13, 14, 15, 16]]                 [7, 8]]],\n",
    "                                              [[[9, 10],\n",
    "                                                [13, 14]],\n",
    "                                               [[11, 12],\n",
    "                                                [15, 16]]]]\n",
    "    \"\"\"\n",
    "    batches, channels, x, y = input_data.shape\n",
    "    out_x, out_y = (x - kernel_x) // stride + 1, (y - kernel_y) // stride + 1\n",
    "    shape = (batches, channels, out_x, out_y, kernel_x, kernel_y)\n",
    "    strides = (*input_data.strides[:-2], input_data.strides[-2] * stride,\n",
    "               input_data.strides[-1] * stride, *input_data.strides[-2:])\n",
    "    output_data = as_strided(input_data, shape, strides=strides)\n",
    "    return output_data"
   ]
  },
  {
   "cell_type": "code",
   "execution_count": 8,
   "metadata": {},
   "outputs": [],
   "source": [
    "x=np.random.randint(0,10,(2,3,4,4))"
   ]
  },
  {
   "cell_type": "code",
   "execution_count": 9,
   "metadata": {},
   "outputs": [
    {
     "data": {
      "text/plain": [
       "array([[[[0, 1, 4, 1],\n",
       "         [8, 4, 0, 6],\n",
       "         [7, 7, 3, 5],\n",
       "         [0, 2, 1, 6]],\n",
       "\n",
       "        [[1, 1, 6, 6],\n",
       "         [0, 7, 7, 1],\n",
       "         [2, 5, 8, 6],\n",
       "         [9, 8, 3, 5]],\n",
       "\n",
       "        [[7, 8, 9, 5],\n",
       "         [7, 1, 6, 4],\n",
       "         [3, 2, 9, 8],\n",
       "         [4, 8, 1, 1]]],\n",
       "\n",
       "\n",
       "       [[[9, 4, 0, 0],\n",
       "         [9, 5, 9, 8],\n",
       "         [5, 4, 1, 9],\n",
       "         [2, 5, 6, 5]],\n",
       "\n",
       "        [[8, 8, 0, 2],\n",
       "         [0, 1, 6, 0],\n",
       "         [5, 5, 1, 2],\n",
       "         [9, 5, 6, 5]],\n",
       "\n",
       "        [[0, 1, 0, 5],\n",
       "         [6, 1, 8, 0],\n",
       "         [0, 6, 0, 0],\n",
       "         [2, 9, 2, 6]]]])"
      ]
     },
     "execution_count": 9,
     "metadata": {},
     "output_type": "execute_result"
    }
   ],
   "source": [
    "x"
   ]
  },
  {
   "cell_type": "code",
   "execution_count": 10,
   "metadata": {},
   "outputs": [
    {
     "data": {
      "text/plain": [
       "array([[[[[[0, 1],\n",
       "           [8, 4]],\n",
       "\n",
       "          [[4, 1],\n",
       "           [0, 6]]],\n",
       "\n",
       "\n",
       "         [[[7, 7],\n",
       "           [0, 2]],\n",
       "\n",
       "          [[3, 5],\n",
       "           [1, 6]]]],\n",
       "\n",
       "\n",
       "\n",
       "        [[[[1, 1],\n",
       "           [0, 7]],\n",
       "\n",
       "          [[6, 6],\n",
       "           [7, 1]]],\n",
       "\n",
       "\n",
       "         [[[2, 5],\n",
       "           [9, 8]],\n",
       "\n",
       "          [[8, 6],\n",
       "           [3, 5]]]],\n",
       "\n",
       "\n",
       "\n",
       "        [[[[7, 8],\n",
       "           [7, 1]],\n",
       "\n",
       "          [[9, 5],\n",
       "           [6, 4]]],\n",
       "\n",
       "\n",
       "         [[[3, 2],\n",
       "           [4, 8]],\n",
       "\n",
       "          [[9, 8],\n",
       "           [1, 1]]]]],\n",
       "\n",
       "\n",
       "\n",
       "\n",
       "       [[[[[9, 4],\n",
       "           [9, 5]],\n",
       "\n",
       "          [[0, 0],\n",
       "           [9, 8]]],\n",
       "\n",
       "\n",
       "         [[[5, 4],\n",
       "           [2, 5]],\n",
       "\n",
       "          [[1, 9],\n",
       "           [6, 5]]]],\n",
       "\n",
       "\n",
       "\n",
       "        [[[[8, 8],\n",
       "           [0, 1]],\n",
       "\n",
       "          [[0, 2],\n",
       "           [6, 0]]],\n",
       "\n",
       "\n",
       "         [[[5, 5],\n",
       "           [9, 5]],\n",
       "\n",
       "          [[1, 2],\n",
       "           [6, 5]]]],\n",
       "\n",
       "\n",
       "\n",
       "        [[[[0, 1],\n",
       "           [6, 1]],\n",
       "\n",
       "          [[0, 5],\n",
       "           [8, 0]]],\n",
       "\n",
       "\n",
       "         [[[0, 6],\n",
       "           [2, 9]],\n",
       "\n",
       "          [[0, 0],\n",
       "           [2, 6]]]]]])"
      ]
     },
     "execution_count": 10,
     "metadata": {},
     "output_type": "execute_result"
    }
   ],
   "source": [
    "split_by_strides(x, 2, 2, 2)"
   ]
  },
  {
   "cell_type": "code",
   "execution_count": null,
   "metadata": {},
   "outputs": [],
   "source": []
  }
 ],
 "metadata": {
  "kernelspec": {
   "display_name": "Python 3",
   "language": "python",
   "name": "python3"
  },
  "language_info": {
   "codemirror_mode": {
    "name": "ipython",
    "version": 3
   },
   "file_extension": ".py",
   "mimetype": "text/x-python",
   "name": "python",
   "nbconvert_exporter": "python",
   "pygments_lexer": "ipython3",
   "version": "3.7.3"
  }
 },
 "nbformat": 4,
 "nbformat_minor": 2
}
